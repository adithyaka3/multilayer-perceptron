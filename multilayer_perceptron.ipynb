{
  "nbformat": 4,
  "nbformat_minor": 0,
  "metadata": {
    "colab": {
      "provenance": [],
      "authorship_tag": "ABX9TyPGtdgjUGTWalz+LnEVL/F2",
      "include_colab_link": true
    },
    "kernelspec": {
      "name": "python3",
      "display_name": "Python 3"
    },
    "language_info": {
      "name": "python"
    }
  },
  "cells": [
    {
      "cell_type": "markdown",
      "metadata": {
        "id": "view-in-github",
        "colab_type": "text"
      },
      "source": [
        "<a href=\"https://colab.research.google.com/github/adithyaka3/multilayer-perceptron/blob/main/multilayer_perceptron.ipynb\" target=\"_parent\"><img src=\"https://colab.research.google.com/assets/colab-badge.svg\" alt=\"Open In Colab\"/></a>"
      ]
    },
    {
      "cell_type": "code",
      "execution_count": 3,
      "metadata": {
        "id": "9pmlPwA29lla"
      },
      "outputs": [],
      "source": [
        "import numpy as np\n",
        "from keras.datasets import mnist\n",
        "\n"
      ]
    },
    {
      "cell_type": "code",
      "source": [
        "def one_hot(y:list[int], depth = 10):\n",
        "  result = np.array([np.array([-1]*depth) for _ in range(len(y))])\n",
        "\n",
        "  for i, v in enumerate(y):\n",
        "    result[i][v] = 1\n",
        "  return result\n",
        "\n"
      ],
      "metadata": {
        "id": "Qyf_itQ7-IED"
      },
      "execution_count": 4,
      "outputs": []
    },
    {
      "cell_type": "code",
      "source": [
        "def softmax(x):\n",
        "  return np.exp(x) / np.sum(np.exp(x))"
      ],
      "metadata": {
        "id": "Az9cReIPAbVB"
      },
      "execution_count": 5,
      "outputs": []
    },
    {
      "cell_type": "code",
      "source": [
        "(train_data, train_label), (test_data, test_label) =mnist.load_data()\n",
        "train_data = train_data.reshape((60000, 28*28))\n",
        "test_data = test_data.reshape((10000, 28*28))\n",
        "\n",
        "test_label = one_hot(test_label, 10)\n",
        "train_label = one_hot(train_label, 10)\n",
        "\n",
        "train_data = train_data / 255             #Normalize Data (For Better Learning)"
      ],
      "metadata": {
        "colab": {
          "base_uri": "https://localhost:8080/"
        },
        "id": "ZO9-MVZi_dqm",
        "outputId": "3ae3b414-d183-4634-846c-9634e14366f1"
      },
      "execution_count": 6,
      "outputs": [
        {
          "output_type": "stream",
          "name": "stdout",
          "text": [
            "Downloading data from https://storage.googleapis.com/tensorflow/tf-keras-datasets/mnist.npz\n",
            "11490434/11490434 [==============================] - 0s 0us/step\n"
          ]
        }
      ]
    },
    {
      "cell_type": "code",
      "source": [
        "#all initializing is done\n",
        "W = np.random.randn(10, 28*28)\n"
      ],
      "metadata": {
        "id": "VibrCwr2AKP3"
      },
      "execution_count": 19,
      "outputs": []
    },
    {
      "cell_type": "code",
      "source": [
        "for _ in range(100):\n",
        "\n",
        "  for i in range(len(train_data)):\n",
        "    x = train_data[i]\n",
        "    y = train_label[i]\n",
        "    y_hat = np.dot(W, x)\n",
        "\n",
        "    for j in range(len(y_hat)):\n",
        "      if y[j]*y_hat[j] < 0:\n",
        "        W[j] = W[j] + y[j]*x\n",
        "  print(_)\n",
        "\n",
        "\n",
        "\n"
      ],
      "metadata": {
        "colab": {
          "base_uri": "https://localhost:8080/"
        },
        "id": "Fm4u8XQ5Bh9v",
        "outputId": "22723d4f-8f06-4503-83a1-5b57448053fb"
      },
      "execution_count": 22,
      "outputs": [
        {
          "output_type": "stream",
          "name": "stdout",
          "text": [
            "0\n",
            "1\n",
            "2\n",
            "3\n",
            "4\n",
            "5\n",
            "6\n",
            "7\n",
            "8\n",
            "9\n",
            "10\n",
            "11\n",
            "12\n",
            "13\n",
            "14\n",
            "15\n",
            "16\n",
            "17\n",
            "18\n",
            "19\n",
            "20\n",
            "21\n",
            "22\n",
            "23\n",
            "24\n",
            "25\n",
            "26\n",
            "27\n",
            "28\n",
            "29\n",
            "30\n",
            "31\n",
            "32\n",
            "33\n",
            "34\n",
            "35\n",
            "36\n",
            "37\n",
            "38\n",
            "39\n",
            "40\n",
            "41\n",
            "42\n",
            "43\n",
            "44\n",
            "45\n",
            "46\n",
            "47\n",
            "48\n",
            "49\n",
            "50\n",
            "51\n",
            "52\n",
            "53\n",
            "54\n",
            "55\n",
            "56\n",
            "57\n",
            "58\n",
            "59\n",
            "60\n",
            "61\n",
            "62\n",
            "63\n",
            "64\n",
            "65\n",
            "66\n",
            "67\n",
            "68\n",
            "69\n",
            "70\n",
            "71\n",
            "72\n",
            "73\n",
            "74\n",
            "75\n",
            "76\n",
            "77\n",
            "78\n",
            "79\n",
            "80\n",
            "81\n",
            "82\n",
            "83\n",
            "84\n",
            "85\n",
            "86\n",
            "87\n",
            "88\n",
            "89\n",
            "90\n",
            "91\n",
            "92\n",
            "93\n",
            "94\n",
            "95\n",
            "96\n",
            "97\n",
            "98\n",
            "99\n"
          ]
        }
      ]
    },
    {
      "cell_type": "code",
      "source": [
        "#testing\n",
        "correct = 0\n",
        "for i in range(len(test_data)):\n",
        "  x = test_data[i]\n",
        "  y = test_label[i]\n",
        "\n",
        "  y_hat = np.dot(W, x)\n",
        "  if np.argmax(y_hat) == np.argmax(y):\n",
        "    correct += 1\n",
        "print(correct/len(test_data))"
      ],
      "metadata": {
        "colab": {
          "base_uri": "https://localhost:8080/"
        },
        "id": "PzANHAp1G4xG",
        "outputId": "3dd79ec0-2e70-4b48-fc29-1063dde50593"
      },
      "execution_count": 23,
      "outputs": [
        {
          "output_type": "stream",
          "name": "stdout",
          "text": [
            "0.8329\n"
          ]
        }
      ]
    }
  ]
}